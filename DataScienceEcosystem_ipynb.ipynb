{
  "nbformat": 4,
  "nbformat_minor": 0,
  "metadata": {
    "colab": {
      "provenance": []
    },
    "kernelspec": {
      "name": "python3",
      "display_name": "Python 3"
    },
    "language_info": {
      "name": "python"
    }
  },
  "cells": [
    {
      "cell_type": "markdown",
      "source": [
        "# Data Science Tools and Ecosystem"
      ],
      "metadata": {
        "id": "0_5D_fo9a_GH"
      }
    },
    {
      "cell_type": "markdown",
      "source": [
        "In this notebook, Data Science Tools and Ecosystem are summarized."
      ],
      "metadata": {
        "id": "UgZPc9MZbbm1"
      }
    },
    {
      "cell_type": "markdown",
      "source": [
        "Some of the popular languages that Data Scientists use are:\n",
        "\n",
        "\n",
        "*   python\n",
        "*   R\n",
        "\n",
        "*   Scala\n",
        "\n",
        "\n",
        "\n",
        "\n"
      ],
      "metadata": {
        "id": "WTamxgi0bpvO"
      }
    },
    {
      "cell_type": "markdown",
      "source": [
        "Some of the commonly used libraries used by Data Scientists include:\n",
        "\n",
        "\n",
        "1.   Sikit learn\n",
        "2.   Numpy\n",
        "\n",
        "3.   Tensorflow\n",
        "\n",
        "\n",
        "\n",
        "\n"
      ],
      "metadata": {
        "id": "26zmwR0vcWvq"
      }
    },
    {
      "cell_type": "markdown",
      "source": [
        "| Column 1        | Column 2 | Column 3 | colum 4 |\n",
        "|----------       |----------|----------|---------|\n",
        "| DataScience Tools  | Jupyter Lab  | Google collab  | Github\n",
        "\n"
      ],
      "metadata": {
        "id": "7h_D8TF0dAJ0"
      }
    },
    {
      "cell_type": "markdown",
      "source": [
        "### Below are a few examples of evaluating arithmetic expressions in Python"
      ],
      "metadata": {
        "id": "0P7q2JgaeZS7"
      }
    },
    {
      "cell_type": "code",
      "execution_count": 1,
      "metadata": {
        "colab": {
          "base_uri": "https://localhost:8080/"
        },
        "id": "2IpffUIha5gR",
        "outputId": "56c6a892-582c-4ba6-8bb0-98b09d7ece9f"
      },
      "outputs": [
        {
          "output_type": "stream",
          "name": "stdout",
          "text": [
            "11\n"
          ]
        }
      ],
      "source": [
        "x = 8 + 3\n",
        "print (x)"
      ]
    },
    {
      "cell_type": "markdown",
      "source": [
        "This a simple arithmetic expression to mutiply then add integers"
      ],
      "metadata": {
        "id": "CvTKlEEyeuon"
      }
    },
    {
      "cell_type": "code",
      "source": [
        "(3*4)+5"
      ],
      "metadata": {
        "colab": {
          "base_uri": "https://localhost:8080/"
        },
        "id": "lzCmL3QrejEu",
        "outputId": "9abb5538-32ea-4c7a-8374-94529d1f4de7"
      },
      "execution_count": 2,
      "outputs": [
        {
          "output_type": "execute_result",
          "data": {
            "text/plain": [
              "17"
            ]
          },
          "metadata": {},
          "execution_count": 2
        }
      ]
    },
    {
      "cell_type": "markdown",
      "source": [
        " This will convert 200 minutes to hours by diving by 60"
      ],
      "metadata": {
        "id": "Y3ggTo4He-BF"
      }
    },
    {
      "cell_type": "code",
      "source": [
        "hours = 200/60\n",
        "print (hours)"
      ],
      "metadata": {
        "colab": {
          "base_uri": "https://localhost:8080/"
        },
        "id": "G5KNDqdPey0y",
        "outputId": "d990e562-f8a2-4e0b-d730-d9b10c43ad97"
      },
      "execution_count": 3,
      "outputs": [
        {
          "output_type": "stream",
          "name": "stdout",
          "text": [
            "3.3333333333333335\n"
          ]
        }
      ]
    },
    {
      "cell_type": "markdown",
      "source": [
        "**Objectives:**\n",
        "\n",
        "\n",
        "*   popular languages for Data Science\n",
        "*   popular Tools for Data Science\n"
      ],
      "metadata": {
        "id": "jw_80VZwfQXR"
      }
    },
    {
      "cell_type": "markdown",
      "source": [
        "# Author\n",
        "Imalsha Sewwandi"
      ],
      "metadata": {
        "id": "Vh1Tsl19fqVR"
      }
    },
    {
      "cell_type": "code",
      "source": [],
      "metadata": {
        "id": "ECmcXKomffwx"
      },
      "execution_count": null,
      "outputs": []
    }
  ]
}